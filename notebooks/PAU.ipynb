{
 "cells": [
  {
   "cell_type": "code",
   "execution_count": 27,
   "metadata": {},
   "outputs": [],
   "source": [
    "from random import choice\n",
    "import os\n",
    "\n",
    "PATH = '/home/gemelli/projects/doc2graph/DATA/PAU/train'"
   ]
  },
  {
   "cell_type": "markdown",
   "metadata": {},
   "source": [
    "Pick random image and annotations"
   ]
  },
  {
   "cell_type": "code",
   "execution_count": 28,
   "metadata": {},
   "outputs": [
    {
     "data": {
      "text/plain": [
       "('83565418.tif', '83565418_gt.xml', '83565418_ocr.xml')"
      ]
     },
     "execution_count": 28,
     "metadata": {},
     "output_type": "execute_result"
    }
   ],
   "source": [
    "image = choice([f for f in os.listdir(PATH) if f.endswith('tif')])\n",
    "img_name = image.split('.')[0]\n",
    "file_gt = img_name + '_gt.xml'\n",
    "file_ocr = img_name + '_ocr.xml'\n",
    "\n",
    "image, file_gt, file_ocr"
   ]
  },
  {
   "cell_type": "code",
   "execution_count": 29,
   "metadata": {},
   "outputs": [
    {
     "name": "stdout",
     "output_type": "stream",
     "text": [
      "['other', [21, 28, 728, 188]]\n",
      "['invoice_info', [418, 192, 727, 272]]\n",
      "['receiver', [21, 191, 411, 304]]\n",
      "['supplier', [20, 307, 725, 417]]\n",
      "['table', [21, 423, 726, 602]]\n",
      "['total', [21, 607, 725, 746]]\n",
      "['other', [20, 752, 726, 919]]\n"
     ]
    }
   ],
   "source": [
    "import xml.etree.ElementTree as ET\n",
    "root = ET.parse(os.path.join(PATH, file_gt)).getroot()\n",
    "regions = []\n",
    "for parent in root:\n",
    "    if parent.tag.split(\"}\")[1] == 'Page':\n",
    "        for child in parent:\n",
    "            region_label = child[0].attrib['value'] \n",
    "            if region_label == 'positions': region_label = 'table'\n",
    "            region_bbox = [int(child[1].attrib['points'].split(\" \")[0].split(\",\")[0].split(\".\")[0]),\n",
    "                           int(child[1].attrib['points'].split(\" \")[1].split(\",\")[1].split(\".\")[0]),\n",
    "                           int(child[1].attrib['points'].split(\" \")[2].split(\",\")[0].split(\".\")[0]),\n",
    "                           int(child[1].attrib['points'].split(\" \")[3].split(\",\")[1].split(\".\")[0])]\n",
    "            regions.append([region_label, region_bbox])\n",
    "            print([region_label, region_bbox])"
   ]
  },
  {
   "cell_type": "code",
   "execution_count": 30,
   "metadata": {},
   "outputs": [
    {
     "name": "stdout",
     "output_type": "stream",
     "text": [
      "['Invoice', [99, 163, 153, 175]]\n",
      "['DECEIVED', [556, 74, 661, 91]]\n",
      "['DEC', [558, 104, 585, 118]]\n",
      "['^', [606, 111, 613, 119]]\n",
      "['1998', [618, 107, 646, 122]]\n",
      "['DJM', [589, 143, 619, 157]]\n",
      "['To:', [99, 199, 117, 209]]\n",
      "['November', [538, 198, 597, 208]]\n",
      "['18,', [603, 198, 618, 210]]\n",
      "['1998', [625, 198, 650, 208]]\n",
      "['Attorney', [99, 216, 148, 228]]\n",
      "['David', [152, 215, 185, 226]]\n",
      "['MacDougall', [189, 215, 257, 229]]\n",
      "['Brennan,', [98, 232, 148, 244]]\n",
      "['Steil,', [153, 232, 180, 244]]\n",
      "['Basting', [185, 232, 226, 245]]\n",
      "['ane', [230, 235, 249, 242]]\n",
      "['MacDougall', [253, 232, 323, 245]]\n",
      "['PO', [99, 249, 116, 259]]\n",
      "['Box', [120, 249, 143, 259]]\n",
      "['1148', [149, 249, 175, 259]]\n",
      "['Janesville,', [98, 265, 154, 277]]\n",
      "['Wisconsin', [159, 265, 215, 275]]\n",
      "['53547', [220, 265, 254, 275]]\n",
      "['From:', [98, 315, 131, 325]]\n",
      "['Patricia', [98, 331, 141, 342]]\n",
      "['J.', [145, 331, 152, 342]]\n",
      "['O’Campo', [158, 331, 210, 345]]\n",
      "['Ph', [215, 331, 229, 342]]\n",
      "['D', [233, 332, 243, 341]]\n",
      "['563-23-7979', [99, 348, 171, 358]]\n",
      "['8820', [99, 365, 126, 375]]\n",
      "['Castlebury', [130, 365, 189, 378]]\n",
      "['Court', [193, 364, 225, 375]]\n",
      "['Laurel,', [99, 381, 137, 394]]\n",
      "['Maryland', [142, 381, 194, 394]]\n",
      "['20723', [199, 381, 232, 391]]\n",
      "['Tasks', [99, 432, 131, 442]]\n",
      "['and', [135, 432, 154, 442]]\n",
      "['Dates', [159, 432, 190, 442]]\n",
      "['for', [194, 432, 210, 442]]\n",
      "['work', [214, 432, 242, 442]]\n",
      "['on', [247, 435, 260, 442]]\n",
      "['Tobacco', [264, 432, 313, 442]]\n",
      "['Litigation', [318, 431, 372, 445]]\n",
      "['Hours', [522, 432, 557, 442]]\n",
      "['Retrieving', [98, 482, 157, 495]]\n",
      "['articles', [161, 482, 199, 492]]\n",
      "['and', [203, 482, 222, 492]]\n",
      "['books', [226, 482, 260, 492]]\n",
      "['10/14', [266, 482, 296, 492]]\n",
      "['2', [523, 482, 528, 491]]\n",
      "['Reviewing', [99, 515, 158, 529]]\n",
      "['articles', [162, 515, 200, 526]]\n",
      "['and', [204, 515, 223, 526]]\n",
      "['books', [228, 515, 261, 526]]\n",
      "['10/21', [267, 515, 296, 526]]\n",
      "['&', [302, 515, 312, 525]]\n",
      "['10/22', [318, 515, 348, 526]]\n",
      "['3', [522, 515, 527, 525]]\n",
      "['Writing', [98, 548, 141, 562]]\n",
      "['brief', [145, 548, 172, 559]]\n",
      "['10/23', [175, 549, 203, 559]]\n",
      "['&', [209, 548, 219, 559]]\n",
      "['10/24', [225, 549, 255, 559]]\n",
      "['2', [522, 548, 528, 558]]\n",
      "['Total', [99, 648, 127, 659]]\n",
      "['Hours', [132, 649, 166, 659]]\n",
      "['yn', [520, 645, 547, 659]]\n",
      "['@S250', [353, 665, 393, 679]]\n",
      "['per', [398, 668, 415, 679]]\n",
      "['hour', [419, 665, 444, 676]]\n",
      "['$1250.00', [501, 699, 554, 709]]\n",
      "['M', [566, 695, 574, 710]]\n",
      "['TOTAL', [354, 699, 398, 709]]\n",
      "['83565418', [623, 767, 643, 866]]\n"
     ]
    }
   ],
   "source": [
    "root = ET.parse(os.path.join(PATH, file_ocr)).getroot()\n",
    "tokens = []\n",
    "for parent in root:\n",
    "    if parent.tag.split(\"}\")[1] == 'Page':\n",
    "        for child in parent:\n",
    "            if child.tag.split(\"}\")[1] == 'TextRegion':\n",
    "                for elem in child:\n",
    "                    if elem.tag.split(\"}\")[1] == 'TextLine':\n",
    "                        for word in elem:\n",
    "                            if word.tag.split(\"}\")[1] == 'Word':\n",
    "                                word_bbox = [int(word[0].attrib['points'].split(\" \")[0].split(\",\")[0].split(\".\")[0]),\n",
    "                                             int(word[0].attrib['points'].split(\" \")[1].split(\",\")[1].split(\".\")[0]),\n",
    "                                             int(word[0].attrib['points'].split(\" \")[2].split(\",\")[0].split(\".\")[0]),\n",
    "                                             int(word[0].attrib['points'].split(\" \")[3].split(\",\")[1].split(\".\")[0])]\n",
    "                                word_text = word[1][0].text\n",
    "                                center = lambda rect: ((rect[2]+rect[0])/2, (rect[3]+rect[1])/2)\n",
    "                                c = center(word_bbox)\n",
    "                                for reg in regions:\n",
    "                                    r = reg[1]\n",
    "                                    if r[0] < c[0] < r[2] and r[1] < c[1] < r[3]:\n",
    "                                        word_label = reg[0]\n",
    "                                        break\n",
    "                                tokens.append([word_label, word_text, word_bbox])\n",
    "                                print([word_text, word_bbox])"
   ]
  },
  {
   "cell_type": "code",
   "execution_count": 31,
   "metadata": {},
   "outputs": [],
   "source": [
    "COLORS = {'invoice_info': (150, 75, 0), 'receiver':(0,100,0), 'other':(128, 128, 128), 'supplier': (255, 0, 255), 'table':(255,140,0), 'total':(0, 255, 255)}\n",
    "def get_color(text):\n",
    "    return COLORS[text]"
   ]
  },
  {
   "cell_type": "code",
   "execution_count": 32,
   "metadata": {},
   "outputs": [],
   "source": [
    "from turtle import color\n",
    "from PIL import Image, ImageDraw, ImageFont\n",
    "\n",
    "img = Image.open(os.path.join(PATH, image)).convert('RGB')\n",
    "draw = ImageDraw.Draw(img)\n",
    "for rect in tokens:\n",
    "    draw.rectangle(rect[2], outline=get_color(rect[0]), width=3)\n",
    "for rect in regions:\n",
    "    draw.rectangle(rect[1], outline=get_color(rect[0]), width=3)\n",
    "    draw.text((rect[1][0], rect[1][1]-15), rect[0], font=ImageFont.truetype(\"Pillow/Tests/fonts/FreeMono.ttf\", 15), fill='black')\n",
    "img.save('pau.png')"
   ]
  }
 ],
 "metadata": {
  "kernelspec": {
   "display_name": "Python 3.9.12 ('testing')",
   "language": "python",
   "name": "python3"
  },
  "language_info": {
   "codemirror_mode": {
    "name": "ipython",
    "version": 3
   },
   "file_extension": ".py",
   "mimetype": "text/x-python",
   "name": "python",
   "nbconvert_exporter": "python",
   "pygments_lexer": "ipython3",
   "version": "3.9.12"
  },
  "orig_nbformat": 4,
  "vscode": {
   "interpreter": {
    "hash": "9d5dc6f03e22687739f7d5f0c49055a2faa2827c66b89703851b287df8ecc0ae"
   }
  }
 },
 "nbformat": 4,
 "nbformat_minor": 2
}
